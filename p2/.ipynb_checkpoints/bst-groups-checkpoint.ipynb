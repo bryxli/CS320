{
 "cells": [
  {
   "cell_type": "code",
   "execution_count": 1,
   "id": "abfed866",
   "metadata": {},
   "outputs": [],
   "source": [
    "class Node():\n",
    "    def __init__(self, key):\n",
    "        self.key = key\n",
    "        self.values = []\n",
    "        self.left = None\n",
    "        self.right = None\n",
    "        \n",
    "    def __len__(self):\n",
    "        size = len(self.values)\n",
    "        if self.left != None:\n",
    "            size += len(self.left.values)\n",
    "        if self.right != None:\n",
    "            size += len(self.right.values)\n",
    "        return size\n",
    "    \n",
    "    def lookup(self, key):\n",
    "        if key == self.key:\n",
    "            return self.values\n",
    "        elif key < self.key and self.left != None:\n",
    "            return self.left.lookup(key)\n",
    "        elif key > self.key and self.right != None:\n",
    "            return self.right.lookup(key)\n",
    "        else:\n",
    "            return []\n",
    "    \n",
    "class BST():\n",
    "    def __init__(self):\n",
    "        self.root = None\n",
    "\n",
    "    def add(self, key, val):\n",
    "        if self.root == None:\n",
    "            self.root = Node(key)\n",
    "\n",
    "        curr = self.root\n",
    "        while True:\n",
    "            if key < curr.key:\n",
    "                # go left\n",
    "                if curr.left == None:\n",
    "                    curr.left = Node(key)\n",
    "                curr = curr.left\n",
    "            elif key > curr.key:\n",
    "                 # go right\n",
    "                if curr.right == None:\n",
    "                    curr.right = Node(key)\n",
    "                curr = curr.right\n",
    "            else:\n",
    "                # found it!\n",
    "                assert curr.key == key\n",
    "                break\n",
    "\n",
    "        curr.values.append(val)\n",
    "        \n",
    "    def __dump(self, node):\n",
    "        if node == None:\n",
    "            return\n",
    "        self.__dump(node.right)            \n",
    "        print(node.key, \":\", node.values)  \n",
    "        self.__dump(node.left)             \n",
    "\n",
    "    def dump(self):\n",
    "        self.__dump(self.root)"
   ]
  },
  {
   "cell_type": "code",
   "execution_count": 2,
   "id": "762119b5",
   "metadata": {},
   "outputs": [
    {
     "name": "stdout",
     "output_type": "stream",
     "text": [
      "C : [33]\n",
      "B : [22]\n",
      "A : [9, 5]\n"
     ]
    }
   ],
   "source": [
    "tree = BST()\n",
    "tree.add(\"A\", 9)\n",
    "tree.add(\"A\", 5)\n",
    "tree.add(\"B\", 22)\n",
    "tree.add(\"C\", 33)\n",
    "tree.dump()"
   ]
  },
  {
   "cell_type": "code",
   "execution_count": 3,
   "id": "dd6ca4ea",
   "metadata": {},
   "outputs": [],
   "source": [
    "t = BST()\n",
    "t.add(\"B\", 3)\n",
    "assert len(t.root) == 1\n",
    "t.add(\"A\", 2)\n",
    "assert len(t.root) == 2\n",
    "t.add(\"C\", 1)\n",
    "assert len(t.root) == 3\n",
    "t.add(\"C\", 4)\n",
    "assert len(t.root) == 4"
   ]
  },
  {
   "cell_type": "code",
   "execution_count": 4,
   "id": "d87abcc9",
   "metadata": {},
   "outputs": [
    {
     "data": {
      "text/plain": [
       "[]"
      ]
     },
     "execution_count": 4,
     "metadata": {},
     "output_type": "execute_result"
    }
   ],
   "source": [
    "t.root.lookup(\"A\")\n",
    "t.root.lookup(\"C\")\n",
    "t.root.lookup(\"Z\")"
   ]
  },
  {
   "cell_type": "code",
   "execution_count": null,
   "id": "b746e568",
   "metadata": {},
   "outputs": [],
   "source": []
  }
 ],
 "metadata": {
  "kernelspec": {
   "display_name": "Python 3 (ipykernel)",
   "language": "python",
   "name": "python3"
  },
  "language_info": {
   "codemirror_mode": {
    "name": "ipython",
    "version": 3
   },
   "file_extension": ".py",
   "mimetype": "text/x-python",
   "name": "python",
   "nbconvert_exporter": "python",
   "pygments_lexer": "ipython3",
   "version": "3.8.10"
  }
 },
 "nbformat": 4,
 "nbformat_minor": 5
}
