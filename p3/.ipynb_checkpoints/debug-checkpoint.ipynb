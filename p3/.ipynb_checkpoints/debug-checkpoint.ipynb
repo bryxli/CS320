{
 "cells": [
  {
   "cell_type": "code",
   "execution_count": 1,
   "id": "b1755bed",
   "metadata": {},
   "outputs": [
    {
     "name": "stderr",
     "output_type": "stream",
     "text": [
      "/usr/lib/python3/dist-packages/requests/__init__.py:89: RequestsDependencyWarning: urllib3 (1.26.8) or chardet (3.0.4) doesn't match a supported version!\n",
      "  warnings.warn(\"urllib3 ({}) or chardet ({}) doesn't match a supported \"\n"
     ]
    },
    {
     "name": "stdout",
     "output_type": "stream",
     "text": [
      "BASCOM HALL\n"
     ]
    }
   ],
   "source": [
    "import scrape\n",
    "import pandas as pd\n",
    "\n",
    "from selenium.webdriver.chrome.options import Options\n",
    "from selenium.webdriver.chrome.service import Service\n",
    "from selenium import webdriver\n",
    "options = Options()\n",
    "options.headless = True\n",
    "service = Service(executable_path=\"chromium.chromedriver\")\n",
    "driver = webdriver.Chrome(options=options, service=service)\n",
    "\n",
    "expected_travellog = pd.read_csv(\"part3.csv\")\n",
    "location = scrape.reveal_secrets(driver, f'http://localhost:{5000}', expected_travellog)\n",
    "print(location)"
   ]
  },
  {
   "cell_type": "code",
   "execution_count": 3,
   "id": "b6d7b9e8",
   "metadata": {},
   "outputs": [
    {
     "name": "stdout",
     "output_type": "stream",
     "text": [
      "1885\n"
     ]
    }
   ],
   "source": [
    "with open(\"Current_Location.jpg\", \"rb\") as f:\n",
    "        print(len(f.read()) == 99951)"
   ]
  },
  {
   "cell_type": "code",
   "execution_count": null,
   "id": "412899e6",
   "metadata": {},
   "outputs": [],
   "source": []
  }
 ],
 "metadata": {
  "kernelspec": {
   "display_name": "Python 3 (ipykernel)",
   "language": "python",
   "name": "python3"
  },
  "language_info": {
   "codemirror_mode": {
    "name": "ipython",
    "version": 3
   },
   "file_extension": ".py",
   "mimetype": "text/x-python",
   "name": "python",
   "nbconvert_exporter": "python",
   "pygments_lexer": "ipython3",
   "version": "3.8.10"
  }
 },
 "nbformat": 4,
 "nbformat_minor": 5
}
