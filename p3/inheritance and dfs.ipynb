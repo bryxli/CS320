{
 "cells": [
  {
   "cell_type": "code",
   "execution_count": 1,
   "id": "a9e2fd6a",
   "metadata": {},
   "outputs": [],
   "source": [
    "class Parent:\n",
    "    def twice(self):\n",
    "        self.message()\n",
    "        self.message()\n",
    "        \n",
    "    def message(self):\n",
    "        print(\"parent says hi\")\n",
    "        \n",
    "class Child(Parent):\n",
    "    def message(self):\n",
    "        print(\"child says hi\")\n",
    "        \n",
    "c = Child()"
   ]
  },
  {
   "cell_type": "code",
   "execution_count": 2,
   "id": "62a6936b",
   "metadata": {},
   "outputs": [
    {
     "name": "stdout",
     "output_type": "stream",
     "text": [
      "child says hi\n",
      "child says hi\n"
     ]
    }
   ],
   "source": [
    "child = Child()\n",
    "child.twice()"
   ]
  },
  {
   "cell_type": "code",
   "execution_count": 3,
   "id": "9ebce060",
   "metadata": {},
   "outputs": [],
   "source": [
    "class GraphSearcher:\n",
    "    def __init__(self):\n",
    "        self.visited = set()\n",
    "        self.order = []\n",
    "\n",
    "    def go(self, node):\n",
    "        raise Exception(\"must be overridden in sub classes -- don't change me here!\")\n",
    "\n",
    "    def dfs_search(self, node):\n",
    "        self.visited = set()\n",
    "        self.dfs_visit(node)\n",
    "\n",
    "    def dfs_visit(self, node):\n",
    "        if node in self.visited:\n",
    "            return\n",
    "        self.visited.add(node)\n",
    "        self.order.append(node)\n",
    "        children = self.go(node)\n",
    "        for child in children:\n",
    "            self.dfs_visit(child)"
   ]
  },
  {
   "cell_type": "code",
   "execution_count": 4,
   "id": "e0cd60c1",
   "metadata": {},
   "outputs": [
    {
     "data": {
      "text/plain": [
       "<zip at 0x7f9634d265c0>"
      ]
     },
     "execution_count": 4,
     "metadata": {},
     "output_type": "execute_result"
    }
   ],
   "source": [
    "import pandas as pd\n",
    "\n",
    "df = pd.DataFrame([\n",
    "    [0,1,0,0],\n",
    "    [0,0,1,1],\n",
    "    [0,0,0,1],\n",
    "    [0,0,1,0],\n",
    "], index=[\"A\", \"B\", \"C\", \"D\"], columns=[\"A\", \"B\", \"C\", \"D\"])\n",
    "df.loc[\"B\"].items()"
   ]
  },
  {
   "cell_type": "code",
   "execution_count": 5,
   "id": "7e774eed",
   "metadata": {},
   "outputs": [
    {
     "name": "stdout",
     "output_type": "stream",
     "text": [
      "C\n",
      "D\n"
     ]
    }
   ],
   "source": [
    "for node, has_edge in df.loc[\"B\"].items():\n",
    "    if has_edge:\n",
    "        print(node)"
   ]
  },
  {
   "cell_type": "code",
   "execution_count": 6,
   "id": "d2c266b6",
   "metadata": {},
   "outputs": [],
   "source": [
    "class MatrixSearcher(GraphSearcher):\n",
    "    def __init__(self, df):\n",
    "        super().__init__()\n",
    "        self.df = df\n",
    "\n",
    "    def go(self, node):\n",
    "        children = []\n",
    "        for node, has_edge in self.df.loc[node].items():\n",
    "            if has_edge:\n",
    "                children.append(node)\n",
    "        return children"
   ]
  },
  {
   "cell_type": "code",
   "execution_count": 7,
   "id": "0ae0b9a0",
   "metadata": {},
   "outputs": [
    {
     "data": {
      "text/plain": [
       "['B', 'C', 'D']"
      ]
     },
     "execution_count": 7,
     "metadata": {},
     "output_type": "execute_result"
    }
   ],
   "source": [
    "m = MatrixSearcher(df)\n",
    "m.dfs_search(\"B\")\n",
    "m.order"
   ]
  },
  {
   "cell_type": "code",
   "execution_count": null,
   "id": "b32f0269",
   "metadata": {},
   "outputs": [],
   "source": []
  },
  {
   "cell_type": "code",
   "execution_count": null,
   "id": "0d7d2638",
   "metadata": {},
   "outputs": [],
   "source": []
  }
 ],
 "metadata": {
  "kernelspec": {
   "display_name": "Python 3 (ipykernel)",
   "language": "python",
   "name": "python3"
  },
  "language_info": {
   "codemirror_mode": {
    "name": "ipython",
    "version": 3
   },
   "file_extension": ".py",
   "mimetype": "text/x-python",
   "name": "python",
   "nbconvert_exporter": "python",
   "pygments_lexer": "ipython3",
   "version": "3.8.10"
  }
 },
 "nbformat": 4,
 "nbformat_minor": 5
}
